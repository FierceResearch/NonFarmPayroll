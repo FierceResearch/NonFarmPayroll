{
 "cells": [
  {
   "cell_type": "markdown",
   "metadata": {},
   "source": [
    "# Fierce Research US Non-Farm Payrolls Analysis"
   ]
  },
  {
   "cell_type": "code",
   "execution_count": 59,
   "metadata": {},
   "outputs": [
    {
     "data": {
      "text/html": [
       "<div>\n",
       "<style scoped>\n",
       "    .dataframe tbody tr th:only-of-type {\n",
       "        vertical-align: middle;\n",
       "    }\n",
       "\n",
       "    .dataframe tbody tr th {\n",
       "        vertical-align: top;\n",
       "    }\n",
       "\n",
       "    .dataframe thead th {\n",
       "        text-align: right;\n",
       "    }\n",
       "</style>\n",
       "<table border=\"1\" class=\"dataframe\">\n",
       "  <thead>\n",
       "    <tr style=\"text-align: right;\">\n",
       "      <th></th>\n",
       "      <th>s&amp;p_500</th>\n",
       "      <th>nfp_actual</th>\n",
       "      <th>nfp_polls</th>\n",
       "    </tr>\n",
       "    <tr>\n",
       "      <th>Date</th>\n",
       "      <th></th>\n",
       "      <th></th>\n",
       "      <th></th>\n",
       "    </tr>\n",
       "  </thead>\n",
       "  <tbody>\n",
       "    <tr>\n",
       "      <th>2008-12-31</th>\n",
       "      <td>1452.98</td>\n",
       "      <td>-598.0</td>\n",
       "      <td>-525</td>\n",
       "    </tr>\n",
       "    <tr>\n",
       "      <th>2009-01-31</th>\n",
       "      <td>1329.81</td>\n",
       "      <td>-651.0</td>\n",
       "      <td>-648</td>\n",
       "    </tr>\n",
       "    <tr>\n",
       "      <th>2009-02-28</th>\n",
       "      <td>1133.43</td>\n",
       "      <td>-663.0</td>\n",
       "      <td>-650</td>\n",
       "    </tr>\n",
       "    <tr>\n",
       "      <th>2009-03-31</th>\n",
       "      <td>1314.63</td>\n",
       "      <td>-539.0</td>\n",
       "      <td>-620</td>\n",
       "    </tr>\n",
       "    <tr>\n",
       "      <th>2009-04-30</th>\n",
       "      <td>1424.41</td>\n",
       "      <td>-345.0</td>\n",
       "      <td>-520</td>\n",
       "    </tr>\n",
       "    <tr>\n",
       "      <th>...</th>\n",
       "      <td>...</td>\n",
       "      <td>...</td>\n",
       "      <td>...</td>\n",
       "    </tr>\n",
       "    <tr>\n",
       "      <th>2020-04-30</th>\n",
       "      <td>5778.53</td>\n",
       "      <td>2509.0</td>\n",
       "      <td>-8000</td>\n",
       "    </tr>\n",
       "    <tr>\n",
       "      <th>2020-05-31</th>\n",
       "      <td>6251.48</td>\n",
       "      <td>4800.0</td>\n",
       "      <td>3000</td>\n",
       "    </tr>\n",
       "    <tr>\n",
       "      <th>2020-06-30</th>\n",
       "      <td>6383.76</td>\n",
       "      <td>1763.0</td>\n",
       "      <td>1600</td>\n",
       "    </tr>\n",
       "    <tr>\n",
       "      <th>2020-07-31</th>\n",
       "      <td>6758.20</td>\n",
       "      <td>1371.0</td>\n",
       "      <td>1400</td>\n",
       "    </tr>\n",
       "    <tr>\n",
       "      <th>2020-08-31</th>\n",
       "      <td>7246.37</td>\n",
       "      <td>NaN</td>\n",
       "      <td>850</td>\n",
       "    </tr>\n",
       "  </tbody>\n",
       "</table>\n",
       "<p>141 rows × 3 columns</p>\n",
       "</div>"
      ],
      "text/plain": [
       "            s&p_500  nfp_actual  nfp_polls\n",
       "Date                                      \n",
       "2008-12-31  1452.98      -598.0       -525\n",
       "2009-01-31  1329.81      -651.0       -648\n",
       "2009-02-28  1133.43      -663.0       -650\n",
       "2009-03-31  1314.63      -539.0       -620\n",
       "2009-04-30  1424.41      -345.0       -520\n",
       "...             ...         ...        ...\n",
       "2020-04-30  5778.53      2509.0      -8000\n",
       "2020-05-31  6251.48      4800.0       3000\n",
       "2020-06-30  6383.76      1763.0       1600\n",
       "2020-07-31  6758.20      1371.0       1400\n",
       "2020-08-31  7246.37         NaN        850\n",
       "\n",
       "[141 rows x 3 columns]"
      ]
     },
     "execution_count": 59,
     "metadata": {},
     "output_type": "execute_result"
    }
   ],
   "source": [
    "import pandas as pd\n",
    "import numpy as np\n",
    "\n",
    "import matplotlib.pyplot as plt\n",
    "import seaborn as sns\n",
    "%matplotlib inline\n",
    "plt.style.use('seaborn-dark-palette')\n",
    "\n",
    "import PyDSWS as PyDSWS\n",
    "ds = PyDSWS.Datastream(username='x', password='x')\n",
    "\n",
    "df = ds.get_data(tickers='S&PCOMP(RI),USEMPNGME(REL1),US&NFARMO',\n",
    "                  start=\"2009-01-01\",end=\"-1\", freq=\"M\")\n",
    "\n",
    "df.columns= ['s&p_500','nfp_actual','nfp_polls']\n",
    "\n",
    "df"
   ]
  },
  {
   "cell_type": "code",
   "execution_count": 60,
   "metadata": {},
   "outputs": [
    {
     "data": {
      "image/png": "[encoded data removed]",
      "text/plain": [
       "<Figure size 720x360 with 1 Axes>"
      ]
     },
     "metadata": {
      "needs_background": "light"
     },
     "output_type": "display_data"
    }
   ],
   "source": [
    "fig = plt.figure(figsize=(10,5))\n",
    "plt.plot(df.index[-7:],df['nfp_actual'][-7:],label='NFP Actual Non Revised')\n",
    "plt.plot(df.index[-7:],df['nfp_polls'][-7:],label='NFP Reuters Polls')\n",
    "plt.ylabel('NFP',size=15)\n",
    "plt.legend(loc=7)\n",
    "plt.title('US Non-Farm Payrolls',size=18)\n",
    "plt.grid()\n",
    "plt.tick_params(axis='x', labelsize=10)\n",
    "fig.autofmt_xdate()\n",
    "plt.show()"
   ]
  },
  {
   "cell_type": "code",
   "execution_count": 61,
   "metadata": {},
   "outputs": [
    {
     "data": {
      "text/plain": [
       "s&p_500       0\n",
       "nfp_actual    1\n",
       "nfp_polls     0\n",
       "dtype: int64"
      ]
     },
     "execution_count": 61,
     "metadata": {},
     "output_type": "execute_result"
    }
   ],
   "source": [
    "df.isnull().sum()"
   ]
  },
  {
   "cell_type": "code",
   "execution_count": 62,
   "metadata": {},
   "outputs": [
    {
     "data": {
      "text/plain": [
       "s&p_500       float64\n",
       "nfp_actual    float64\n",
       "nfp_polls       int64\n",
       "dtype: object"
      ]
     },
     "execution_count": 62,
     "metadata": {},
     "output_type": "execute_result"
    }
   ],
   "source": [
    "df.dtypes"
   ]
  },
  {
   "cell_type": "code",
   "execution_count": 63,
   "metadata": {},
   "outputs": [],
   "source": [
    "df['nfp_actual'] = df['nfp_actual'].shift(1)\n",
    "df['nfp_polls'] = df['nfp_polls'].shift(1)\n",
    "df['spreturn']= (((df['s&p_500'].shift(-1)-df['s&p_500'])/df['s&p_500'])*100).round(2)\n",
    "df['nfp_spread'] = df['nfp_actual']-df['nfp_polls']"
   ]
  },
  {
   "cell_type": "code",
   "execution_count": 64,
   "metadata": {},
   "outputs": [
    {
     "data": {
      "text/html": [
       "<div>\n",
       "<style scoped>\n",
       "    .dataframe tbody tr th:only-of-type {\n",
       "        vertical-align: middle;\n",
       "    }\n",
       "\n",
       "    .dataframe tbody tr th {\n",
       "        vertical-align: top;\n",
       "    }\n",
       "\n",
       "    .dataframe thead th {\n",
       "        text-align: right;\n",
       "    }\n",
       "</style>\n",
       "<table border=\"1\" class=\"dataframe\">\n",
       "  <thead>\n",
       "    <tr style=\"text-align: right;\">\n",
       "      <th></th>\n",
       "      <th>s&amp;p_500</th>\n",
       "      <th>nfp_actual</th>\n",
       "      <th>nfp_polls</th>\n",
       "      <th>spreturn</th>\n",
       "      <th>nfp_spread</th>\n",
       "    </tr>\n",
       "    <tr>\n",
       "      <th>Date</th>\n",
       "      <th></th>\n",
       "      <th></th>\n",
       "      <th></th>\n",
       "      <th></th>\n",
       "      <th></th>\n",
       "    </tr>\n",
       "  </thead>\n",
       "  <tbody>\n",
       "    <tr>\n",
       "      <th>2020-04-30</th>\n",
       "      <td>5778.53</td>\n",
       "      <td>-20500.0</td>\n",
       "      <td>-4250.0</td>\n",
       "      <td>8.18</td>\n",
       "      <td>-16250.0</td>\n",
       "    </tr>\n",
       "    <tr>\n",
       "      <th>2020-05-31</th>\n",
       "      <td>6251.48</td>\n",
       "      <td>2509.0</td>\n",
       "      <td>-8000.0</td>\n",
       "      <td>2.12</td>\n",
       "      <td>10509.0</td>\n",
       "    </tr>\n",
       "    <tr>\n",
       "      <th>2020-06-30</th>\n",
       "      <td>6383.76</td>\n",
       "      <td>4800.0</td>\n",
       "      <td>3000.0</td>\n",
       "      <td>5.87</td>\n",
       "      <td>1800.0</td>\n",
       "    </tr>\n",
       "    <tr>\n",
       "      <th>2020-07-31</th>\n",
       "      <td>6758.20</td>\n",
       "      <td>1763.0</td>\n",
       "      <td>1600.0</td>\n",
       "      <td>7.22</td>\n",
       "      <td>163.0</td>\n",
       "    </tr>\n",
       "    <tr>\n",
       "      <th>2020-08-31</th>\n",
       "      <td>7246.37</td>\n",
       "      <td>1371.0</td>\n",
       "      <td>1400.0</td>\n",
       "      <td>NaN</td>\n",
       "      <td>-29.0</td>\n",
       "    </tr>\n",
       "  </tbody>\n",
       "</table>\n",
       "</div>"
      ],
      "text/plain": [
       "            s&p_500  nfp_actual  nfp_polls  spreturn  nfp_spread\n",
       "Date                                                            \n",
       "2020-04-30  5778.53    -20500.0    -4250.0      8.18    -16250.0\n",
       "2020-05-31  6251.48      2509.0    -8000.0      2.12     10509.0\n",
       "2020-06-30  6383.76      4800.0     3000.0      5.87      1800.0\n",
       "2020-07-31  6758.20      1763.0     1600.0      7.22       163.0\n",
       "2020-08-31  7246.37      1371.0     1400.0       NaN       -29.0"
      ]
     },
     "execution_count": 64,
     "metadata": {},
     "output_type": "execute_result"
    }
   ],
   "source": [
    "df.tail()"
   ]
  },
  {
   "cell_type": "code",
   "execution_count": 65,
   "metadata": {},
   "outputs": [
    {
     "data": {
      "image/png": "[encoded data removed]",
      "text/plain": [
       "<Figure size 720x216 with 2 Axes>"
      ]
     },
     "metadata": {
      "needs_background": "light"
     },
     "output_type": "display_data"
    }
   ],
   "source": [
    "fig, ax = plt.subplots(1, 1, figsize=(10,3))\n",
    "sns.heatmap(df.corr()[:1],vmin=-1,vmax=1,annot=True,cmap=\"YlGnBu\")\n",
    "plt.xticks(rotation=35)\n",
    "ax.set_title('Correlation Analysis', size=15);"
   ]
  },
  {
   "cell_type": "code",
   "execution_count": 66,
   "metadata": {},
   "outputs": [
    {
     "data": {
      "image/png": "[encoded data removed]",
      "text/plain": [
       "<Figure size 432x288 with 1 Axes>"
      ]
     },
     "metadata": {
      "needs_background": "light"
     },
     "output_type": "display_data"
    }
   ],
   "source": [
    "df['spreturn'].plot();"
   ]
  },
  {
   "cell_type": "code",
   "execution_count": 67,
   "metadata": {},
   "outputs": [
    {
     "data": {
      "text/html": [
       "<div>\n",
       "<style scoped>\n",
       "    .dataframe tbody tr th:only-of-type {\n",
       "        vertical-align: middle;\n",
       "    }\n",
       "\n",
       "    .dataframe tbody tr th {\n",
       "        vertical-align: top;\n",
       "    }\n",
       "\n",
       "    .dataframe thead th {\n",
       "        text-align: right;\n",
       "    }\n",
       "</style>\n",
       "<table border=\"1\" class=\"dataframe\">\n",
       "  <thead>\n",
       "    <tr style=\"text-align: right;\">\n",
       "      <th></th>\n",
       "      <th>s&amp;p_500</th>\n",
       "      <th>nfp_actual</th>\n",
       "      <th>nfp_polls</th>\n",
       "      <th>spreturn</th>\n",
       "      <th>nfp_spread</th>\n",
       "      <th>posneg</th>\n",
       "    </tr>\n",
       "    <tr>\n",
       "      <th>Date</th>\n",
       "      <th></th>\n",
       "      <th></th>\n",
       "      <th></th>\n",
       "      <th></th>\n",
       "      <th></th>\n",
       "      <th></th>\n",
       "    </tr>\n",
       "  </thead>\n",
       "  <tbody>\n",
       "    <tr>\n",
       "      <th>2020-07-31</th>\n",
       "      <td>6758.20</td>\n",
       "      <td>1763.0</td>\n",
       "      <td>1600.0</td>\n",
       "      <td>7.22</td>\n",
       "      <td>163.0</td>\n",
       "      <td>1</td>\n",
       "    </tr>\n",
       "    <tr>\n",
       "      <th>2020-08-31</th>\n",
       "      <td>7246.37</td>\n",
       "      <td>1371.0</td>\n",
       "      <td>1400.0</td>\n",
       "      <td>NaN</td>\n",
       "      <td>-29.0</td>\n",
       "      <td>0</td>\n",
       "    </tr>\n",
       "  </tbody>\n",
       "</table>\n",
       "</div>"
      ],
      "text/plain": [
       "            s&p_500  nfp_actual  nfp_polls  spreturn  nfp_spread  posneg\n",
       "Date                                                                    \n",
       "2020-07-31  6758.20      1763.0     1600.0      7.22       163.0       1\n",
       "2020-08-31  7246.37      1371.0     1400.0       NaN       -29.0       0"
      ]
     },
     "execution_count": 67,
     "metadata": {},
     "output_type": "execute_result"
    }
   ],
   "source": [
    "df['posneg'] = [1 if row['nfp_spread']>0 else 0 for idx,row in df.iterrows()]\n",
    "df.tail(2)"
   ]
  },
  {
   "cell_type": "code",
   "execution_count": 68,
   "metadata": {},
   "outputs": [
    {
     "data": {
      "text/html": [
       "<div>\n",
       "<style scoped>\n",
       "    .dataframe tbody tr th:only-of-type {\n",
       "        vertical-align: middle;\n",
       "    }\n",
       "\n",
       "    .dataframe tbody tr th {\n",
       "        vertical-align: top;\n",
       "    }\n",
       "\n",
       "    .dataframe thead th {\n",
       "        text-align: right;\n",
       "    }\n",
       "</style>\n",
       "<table border=\"1\" class=\"dataframe\">\n",
       "  <thead>\n",
       "    <tr style=\"text-align: right;\">\n",
       "      <th></th>\n",
       "      <th>s&amp;p_500</th>\n",
       "      <th>nfp_actual</th>\n",
       "      <th>nfp_polls</th>\n",
       "      <th>spreturn</th>\n",
       "      <th>nfp_spread</th>\n",
       "    </tr>\n",
       "    <tr>\n",
       "      <th>posneg</th>\n",
       "      <th></th>\n",
       "      <th></th>\n",
       "      <th></th>\n",
       "      <th></th>\n",
       "      <th></th>\n",
       "    </tr>\n",
       "  </thead>\n",
       "  <tbody>\n",
       "    <tr>\n",
       "      <th>0</th>\n",
       "      <td>3484.88</td>\n",
       "      <td>-218.08</td>\n",
       "      <td>68.39</td>\n",
       "      <td>1.42</td>\n",
       "      <td>-286.48</td>\n",
       "    </tr>\n",
       "    <tr>\n",
       "      <th>1</th>\n",
       "      <td>3785.73</td>\n",
       "      <td>301.62</td>\n",
       "      <td>69.91</td>\n",
       "      <td>1.13</td>\n",
       "      <td>231.71</td>\n",
       "    </tr>\n",
       "  </tbody>\n",
       "</table>\n",
       "</div>"
      ],
      "text/plain": [
       "        s&p_500  nfp_actual  nfp_polls  spreturn  nfp_spread\n",
       "posneg                                                      \n",
       "0       3484.88     -218.08      68.39      1.42     -286.48\n",
       "1       3785.73      301.62      69.91      1.13      231.71"
      ]
     },
     "execution_count": 68,
     "metadata": {},
     "output_type": "execute_result"
    }
   ],
   "source": [
    "df.groupby(['posneg']).mean().round(2)"
   ]
  },
  {
   "cell_type": "code",
   "execution_count": 69,
   "metadata": {},
   "outputs": [
    {
     "data": {
      "text/html": [
       "<div>\n",
       "<style scoped>\n",
       "    .dataframe tbody tr th:only-of-type {\n",
       "        vertical-align: middle;\n",
       "    }\n",
       "\n",
       "    .dataframe tbody tr th {\n",
       "        vertical-align: top;\n",
       "    }\n",
       "\n",
       "    .dataframe thead th {\n",
       "        text-align: right;\n",
       "    }\n",
       "</style>\n",
       "<table border=\"1\" class=\"dataframe\">\n",
       "  <thead>\n",
       "    <tr style=\"text-align: right;\">\n",
       "      <th></th>\n",
       "      <th>s&amp;p_500</th>\n",
       "      <th>nfp_actual</th>\n",
       "      <th>nfp_polls</th>\n",
       "      <th>spreturn</th>\n",
       "      <th>nfp_spread</th>\n",
       "    </tr>\n",
       "    <tr>\n",
       "      <th>posneg</th>\n",
       "      <th></th>\n",
       "      <th></th>\n",
       "      <th></th>\n",
       "      <th></th>\n",
       "      <th></th>\n",
       "    </tr>\n",
       "  </thead>\n",
       "  <tbody>\n",
       "    <tr>\n",
       "      <th>0</th>\n",
       "      <td>1511.50</td>\n",
       "      <td>2455.76</td>\n",
       "      <td>575.46</td>\n",
       "      <td>5.32</td>\n",
       "      <td>1923.09</td>\n",
       "    </tr>\n",
       "    <tr>\n",
       "      <th>1</th>\n",
       "      <td>1527.87</td>\n",
       "      <td>661.95</td>\n",
       "      <td>1070.43</td>\n",
       "      <td>4.57</td>\n",
       "      <td>1273.50</td>\n",
       "    </tr>\n",
       "  </tbody>\n",
       "</table>\n",
       "</div>"
      ],
      "text/plain": [
       "        s&p_500  nfp_actual  nfp_polls  spreturn  nfp_spread\n",
       "posneg                                                      \n",
       "0       1511.50     2455.76     575.46      5.32     1923.09\n",
       "1       1527.87      661.95    1070.43      4.57     1273.50"
      ]
     },
     "execution_count": 69,
     "metadata": {},
     "output_type": "execute_result"
    }
   ],
   "source": [
    "df.groupby(['posneg']).std().round(2)"
   ]
  },
  {
   "cell_type": "markdown",
   "metadata": {},
   "source": [
    "Good luck with the market!\n",
    "\n",
    "Guillaume Girard, CMT \n",
    "\n",
    "Fierce Research"
   ]
  },
  {
   "cell_type": "code",
   "execution_count": null,
   "metadata": {},
   "outputs": [],
   "source": []
  }
 ],
 "metadata": {
  "kernelspec": {
   "display_name": "Python 3",
   "language": "python",
   "name": "python3"
  },
  "language_info": {
   "codemirror_mode": {
    "name": "ipython",
    "version": 3
   },
   "file_extension": ".py",
   "mimetype": "text/x-python",
   "name": "python",
   "nbconvert_exporter": "python",
   "pygments_lexer": "ipython3",
   "version": "3.7.6"
  }
 },
 "nbformat": 4,
 "nbformat_minor": 4
}
